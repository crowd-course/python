{
 "cells": [
  {
   "cell_type": "markdown",
   "metadata": {},
   "source": [
    "# Classes\n",
    "\n",
    "## `Point` class\n",
    "\n",
    "We will write a class for a point in a two dimensional Euclidian space ($\\mathbb{R}^2$).\n",
    "\n",
    "We start with the class definition (`def`) and the constructor (`__init__`) which defines the creation of a new class instance.\n",
    "\n",
    "Note:\n",
    "\n",
    "* The first argument to class methods (class functions) is always **self**, a reference to the instance.\n",
    "* The other arguments to `__init__` have a default values 0.\n",
    "* We *assert* that the `__init__` arguments are numbers."
   ]
  },
  {
   "cell_type": "code",
   "execution_count": 1,
   "metadata": {
    "collapsed": false
   },
   "outputs": [],
   "source": [
    "class Point():\n",
    "    \"\"\"Holds on a point (x,y) in the plane\"\"\"\n",
    "    \n",
    "    def __init__(self, x=0, y=0):\n",
    "        assert isinstance(x, (int, float)) and isinstance(y, (int, float))\n",
    "        self.x = float(x)\n",
    "        self.y = float(y)"
   ]
  },
  {
   "cell_type": "code",
   "execution_count": 2,
   "metadata": {
    "collapsed": false
   },
   "outputs": [
    {
     "name": "stdout",
     "output_type": "stream",
     "text": [
      "point 1.0 2.0\n",
      "origin 0.0 0.0\n"
     ]
    }
   ],
   "source": [
    "p = Point(1,2)\n",
    "print(\"point\", p.x, p.y)\n",
    "origin = Point()\n",
    "print(\"origin\", origin.x, origin.y)"
   ]
  },
  {
   "cell_type": "markdown",
   "metadata": {},
   "source": [
    "Notice that when we send a `Point` to the console we get:"
   ]
  },
  {
   "cell_type": "code",
   "execution_count": 3,
   "metadata": {
    "collapsed": false
   },
   "outputs": [
    {
     "data": {
      "text/plain": [
       "<__main__.Point at 0x22011d27898>"
      ]
     },
     "execution_count": 3,
     "metadata": {},
     "output_type": "execute_result"
    }
   ],
   "source": [
    "p"
   ]
  },
  {
   "cell_type": "markdown",
   "metadata": {},
   "source": [
    "Which is not useful, so we will define how `Point` is represented in the console using `__repr__`. "
   ]
  },
  {
   "cell_type": "code",
   "execution_count": 4,
   "metadata": {
    "collapsed": false
   },
   "outputs": [],
   "source": [
    "class Point():\n",
    "    \"\"\"Holds on a point (x,y) in the plane\"\"\"\n",
    "    def __init__(self, x=0, y=0):\n",
    "        assert isinstance(x, (int, float)) and isinstance(y, (int, float))\n",
    "        self.x = float(x)\n",
    "        self.y = float(y)\n",
    "    \n",
    "    def __repr__(self):\n",
    "        return \"Point(\" + str(self.x) + \", \" + str(self.y) + \")\""
   ]
  },
  {
   "cell_type": "code",
   "execution_count": 5,
   "metadata": {
    "collapsed": false
   },
   "outputs": [
    {
     "data": {
      "text/plain": [
       "Point(1.0, 2.0)"
      ]
     },
     "execution_count": 5,
     "metadata": {},
     "output_type": "execute_result"
    }
   ],
   "source": [
    "Point(1,2)"
   ]
  },
  {
   "cell_type": "markdown",
   "metadata": {},
   "source": [
    "Next up we define a method to add two points. Addition is by elements - $(x_1, y_1) + (x_2, y_2) = (x_1+x_2, y_1+y_2)$.\n",
    "\n",
    "We also allow to add an `int`, in which case we add the point to a another point with both coordinates equal to the argument value."
   ]
  },
  {
   "cell_type": "code",
   "execution_count": 6,
   "metadata": {
    "collapsed": false
   },
   "outputs": [],
   "source": [
    "class Point():\n",
    "    \"\"\"Holds on a point (x,y) in the plane\"\"\"\n",
    "    def __init__(self, x=0, y=0):\n",
    "        assert isinstance(x, (int, float)) and isinstance(y, (int, float))\n",
    "        self.x = float(x)\n",
    "        self.y = float(y)\n",
    "    def __repr__(self):\n",
    "        return \"Point(\" + str(self.x) + \", \" + str(self.y) + \")\"\n",
    "    \n",
    "    def add(self, other):\n",
    "        assert isinstance(other, (int, Point))\n",
    "        if isinstance(other, Point):\n",
    "            return Point(self.x + other.x , self.y + other.y)\n",
    "        else: # other is int, taken as (int, int)\n",
    "            return Point(self.x + other , self.y + other)"
   ]
  },
  {
   "cell_type": "code",
   "execution_count": 7,
   "metadata": {
    "collapsed": false
   },
   "outputs": [
    {
     "data": {
      "text/plain": [
       "Point(3.0, 3.0)"
      ]
     },
     "execution_count": 7,
     "metadata": {},
     "output_type": "execute_result"
    }
   ],
   "source": [
    "Point(1,1).add(Point(2,2))"
   ]
  },
  {
   "cell_type": "code",
   "execution_count": 8,
   "metadata": {
    "collapsed": false
   },
   "outputs": [
    {
     "data": {
      "text/plain": [
       "Point(3.0, 3.0)"
      ]
     },
     "execution_count": 8,
     "metadata": {},
     "output_type": "execute_result"
    }
   ],
   "source": [
    "Point(1,1).add(2)"
   ]
  },
  {
   "cell_type": "markdown",
   "metadata": {},
   "source": [
    "A nicer way to do it is to *overload* the addition operator + by defining the addition method name to a name Python reserves for addition - `__add__` (those are double underscores):"
   ]
  },
  {
   "cell_type": "code",
   "execution_count": 9,
   "metadata": {
    "collapsed": false
   },
   "outputs": [],
   "source": [
    "class Point():\n",
    "    \"\"\"Holds on a point (x,y) in the plane\"\"\"\n",
    "    def __init__(self, x=0, y=0):\n",
    "        assert isinstance(x, (int, float)) and isinstance(y, (int, float))\n",
    "        self.x = float(x)\n",
    "        self.y = float(y)\n",
    "    def __repr__(self):\n",
    "        return \"Point(\" + str(self.x) + \", \" + str(self.y) + \")\"\n",
    "    \n",
    "    def __add__(self, other):\n",
    "        assert isinstance(other, (int, Point))\n",
    "        if isinstance(other, Point):\n",
    "            return Point(self.x + other.x , self.y + other.y)\n",
    "        else: # other is int, taken as (int, int)\n",
    "            return Point(self.x + other , self.y + other)"
   ]
  },
  {
   "cell_type": "code",
   "execution_count": 10,
   "metadata": {
    "collapsed": false
   },
   "outputs": [
    {
     "data": {
      "text/plain": [
       "Point(3.0, 3.0)"
      ]
     },
     "execution_count": 10,
     "metadata": {},
     "output_type": "execute_result"
    }
   ],
   "source": [
    "Point(1,1) + Point(2,2)"
   ]
  },
  {
   "cell_type": "code",
   "execution_count": 11,
   "metadata": {
    "collapsed": false
   },
   "outputs": [
    {
     "data": {
      "text/plain": [
       "Point(3.0, 3.0)"
      ]
     },
     "execution_count": 11,
     "metadata": {},
     "output_type": "execute_result"
    }
   ],
   "source": [
    "Point(1,1) + 2"
   ]
  },
  {
   "cell_type": "markdown",
   "metadata": {},
   "source": [
    "We want to be a able to compare `Point`s:"
   ]
  },
  {
   "cell_type": "code",
   "execution_count": 12,
   "metadata": {
    "collapsed": false
   },
   "outputs": [
    {
     "data": {
      "text/plain": [
       "False"
      ]
     },
     "execution_count": 12,
     "metadata": {},
     "output_type": "execute_result"
    }
   ],
   "source": [
    "Point(1,2) == Point(2,1)"
   ]
  },
  {
   "cell_type": "code",
   "execution_count": 13,
   "metadata": {
    "collapsed": false
   },
   "outputs": [
    {
     "data": {
      "text/plain": [
       "False"
      ]
     },
     "execution_count": 13,
     "metadata": {},
     "output_type": "execute_result"
    }
   ],
   "source": [
    "Point(1,2) == Point(1,2)"
   ]
  },
  {
   "cell_type": "code",
   "execution_count": 14,
   "metadata": {
    "collapsed": false
   },
   "outputs": [
    {
     "data": {
      "text/plain": [
       "True"
      ]
     },
     "execution_count": 14,
     "metadata": {},
     "output_type": "execute_result"
    }
   ],
   "source": [
    "p = Point()\n",
    "p == p"
   ]
  },
  {
   "cell_type": "code",
   "execution_count": 15,
   "metadata": {
    "collapsed": false
   },
   "outputs": [
    {
     "ename": "TypeError",
     "evalue": "unorderable types: Point() > Point()",
     "output_type": "error",
     "traceback": [
      "\u001b[1;31m---------------------------------------------------------------------------\u001b[0m",
      "\u001b[1;31mTypeError\u001b[0m                                 Traceback (most recent call last)",
      "\u001b[1;32m<ipython-input-15-fa6a973b1233>\u001b[0m in \u001b[0;36m<module>\u001b[1;34m()\u001b[0m\n\u001b[1;32m----> 1\u001b[1;33m \u001b[0mPoint\u001b[0m\u001b[1;33m(\u001b[0m\u001b[1;36m1\u001b[0m\u001b[1;33m,\u001b[0m\u001b[1;36m2\u001b[0m\u001b[1;33m)\u001b[0m \u001b[1;33m>\u001b[0m \u001b[0mPoint\u001b[0m\u001b[1;33m(\u001b[0m\u001b[1;36m2\u001b[0m\u001b[1;33m,\u001b[0m\u001b[1;36m1\u001b[0m\u001b[1;33m)\u001b[0m\u001b[1;33m\u001b[0m\u001b[0m\n\u001b[0m",
      "\u001b[1;31mTypeError\u001b[0m: unorderable types: Point() > Point()"
     ]
    }
   ],
   "source": [
    "Point(1,2) > Point(2,1)"
   ]
  },
  {
   "cell_type": "markdown",
   "metadata": {},
   "source": [
    "So `==` checks by identity and `>` is not defined. Let us overload both these operators:"
   ]
  },
  {
   "cell_type": "code",
   "execution_count": 16,
   "metadata": {
    "collapsed": false
   },
   "outputs": [],
   "source": [
    "class Point():\n",
    "    \"\"\"Holds on a point (x,y) in the plane\"\"\"\n",
    "    def __init__(self, x=0, y=0):\n",
    "        assert isinstance(x, (int, float)) and isinstance(y, (int, float))\n",
    "        self.x = float(x)\n",
    "        self.y = float(y)\n",
    "    def __repr__(self):\n",
    "        return \"Point(\" + str(self.x) + \", \" + str(self.y) + \")\"\n",
    "    def __add__(self, other):\n",
    "        assert isinstance(other, (int, Point))\n",
    "        if isinstance(other, Point):\n",
    "            return Point(self.x + other.x , self.y + other.y)\n",
    "        else: # other is int, taken as (int, int)\n",
    "            return Point(self.x + other , self.y + other)\n",
    "    \n",
    "    def __eq__(self, other):\n",
    "        return (self.x, self.y) == (other.x, other.y)\n",
    "    \n",
    "    def __gt__(self, other):\n",
    "        return (self.x > other.x and self.y > other.y)"
   ]
  },
  {
   "cell_type": "markdown",
   "metadata": {},
   "source": [
    "First we check if two points are equal:"
   ]
  },
  {
   "cell_type": "code",
   "execution_count": 17,
   "metadata": {
    "collapsed": false
   },
   "outputs": [
    {
     "data": {
      "text/plain": [
       "False"
      ]
     },
     "execution_count": 17,
     "metadata": {},
     "output_type": "execute_result"
    }
   ],
   "source": [
    "Point(1,0) == Point(1,2)"
   ]
  },
  {
   "cell_type": "code",
   "execution_count": 18,
   "metadata": {
    "collapsed": false
   },
   "outputs": [
    {
     "data": {
      "text/plain": [
       "True"
      ]
     },
     "execution_count": 18,
     "metadata": {},
     "output_type": "execute_result"
    }
   ],
   "source": [
    "Point(1,0) == Point(1,0)"
   ]
  },
  {
   "cell_type": "markdown",
   "metadata": {},
   "source": [
    "Then if one is *strictly* smaller than the other:"
   ]
  },
  {
   "cell_type": "code",
   "execution_count": 19,
   "metadata": {
    "collapsed": false
   },
   "outputs": [
    {
     "data": {
      "text/plain": [
       "False"
      ]
     },
     "execution_count": 19,
     "metadata": {},
     "output_type": "execute_result"
    }
   ],
   "source": [
    "Point(1,0) > Point(1,2)"
   ]
  },
  {
   "cell_type": "markdown",
   "metadata": {},
   "source": [
    "The addition operator + returns a **new instance**. \n",
    "\n",
    "Next we will write a method that instead of returning a new instance, changes the current instance:"
   ]
  },
  {
   "cell_type": "code",
   "execution_count": 36,
   "metadata": {
    "collapsed": false
   },
   "outputs": [],
   "source": [
    "class Point():\n",
    "    \"\"\"Holds on a point (x,y) in the plane\"\"\"\n",
    "    def __init__(self, x=0, y=0):\n",
    "        assert isinstance(x, (int, float)) and isinstance(y, (int, float))\n",
    "        self.x = float(x)\n",
    "        self.y = float(y)\n",
    "    def __repr__(self):\n",
    "        return \"Point(\" + str(self.x) + \", \" + str(self.y) + \")\"\n",
    "    def __eq__(self, other):\n",
    "        return (self.x, self.y) == (other.x, other.y)\n",
    "    def __gt__(self, other):\n",
    "        return (self.x > other.x and self.y > other.y)\n",
    "    def __add__(self, other):\n",
    "        assert isinstance(other, (int, Point))\n",
    "        if isinstance(other, Point):\n",
    "            return Point(self.x + other.x , self.y + other.y)\n",
    "        else: # other is int, taken as (int, int)\n",
    "            return Point(self.x + other , self.y + other)\n",
    "    \n",
    "    def increment(self, other): \n",
    "        '''this method changes self (add \"inplace\")'''\n",
    "        assert isinstance(other,Point)\n",
    "        self.x += other.x\n",
    "        self.y += other.y"
   ]
  },
  {
   "cell_type": "code",
   "execution_count": 37,
   "metadata": {
    "collapsed": false
   },
   "outputs": [
    {
     "name": "stdout",
     "output_type": "stream",
     "text": [
      "Point(6.5, 7.0)\n",
      "Point(7.5, 9.0)\n"
     ]
    }
   ],
   "source": [
    "p = Point(6.5, 7)\n",
    "p + Point(1,2)\n",
    "print(p)\n",
    "p.increment(Point(1,2))\n",
    "print(p)"
   ]
  },
  {
   "cell_type": "code",
   "execution_count": 20,
   "metadata": {
    "collapsed": false
   },
   "outputs": [
    {
     "data": {
      "text/plain": [
       "True"
      ]
     },
     "execution_count": 20,
     "metadata": {},
     "output_type": "execute_result"
    }
   ],
   "source": [
    "Point(5,6) > Point(1,2)"
   ]
  },
  {
   "cell_type": "markdown",
   "metadata": {},
   "source": [
    "We now write a method that given many points, checks if the current point is more extreme than the other points.\n",
    "\n",
    "Note that the argument `*points` means that more than one argument may be given."
   ]
  },
  {
   "cell_type": "code",
   "execution_count": 21,
   "metadata": {
    "collapsed": false
   },
   "outputs": [],
   "source": [
    "class Point():\n",
    "    \"\"\"Holds on a point (x,y) in the plane\"\"\"\n",
    "    def __init__(self, x=0, y=0):\n",
    "        assert isinstance(x, (int, float)) and isinstance(y, (int, float))\n",
    "        self.x = float(x)\n",
    "        self.y = float(y)\n",
    "    def __repr__(self):\n",
    "        return \"Point(\" + str(self.x) + \", \" + str(self.y) + \")\"\n",
    "    def __eq__(self, other):\n",
    "        return (self.x, self.y) == (other.x, other.y)\n",
    "    def __lt__(self, other):\n",
    "        return (self.x < other.x and self.y < other.y)\n",
    "    def __add__(self, other):\n",
    "        assert isinstance(other, (int, Point))\n",
    "        if isinstance(other, Point):\n",
    "            return Point(self.x + other.x , self.y + other.y)\n",
    "        else: # other is int, taken as (int, int)\n",
    "            return Point(self.x + other , self.y + other)\n",
    "    def increment(self, other): \n",
    "        '''this method changes self (add \"inplace\")'''\n",
    "        assert isinstance(other,Point)\n",
    "        self.x += other.x\n",
    "        self.y += other.y\n",
    "    \n",
    "    def is_extreme(self, *points):\n",
    "        for point in points:\n",
    "            if not self > point:\n",
    "                return False\n",
    "        return True"
   ]
  },
  {
   "cell_type": "code",
   "execution_count": 22,
   "metadata": {
    "collapsed": false
   },
   "outputs": [
    {
     "data": {
      "text/plain": [
       "True"
      ]
     },
     "execution_count": 22,
     "metadata": {},
     "output_type": "execute_result"
    }
   ],
   "source": [
    "p = Point(5, 6)\n",
    "p.is_extreme(Point(1,1))"
   ]
  },
  {
   "cell_type": "code",
   "execution_count": 23,
   "metadata": {
    "collapsed": false
   },
   "outputs": [
    {
     "data": {
      "text/plain": [
       "False"
      ]
     },
     "execution_count": 23,
     "metadata": {},
     "output_type": "execute_result"
    }
   ],
   "source": [
    "p.is_extreme(Point(1,1), Point(2,5), Point(6,2))"
   ]
  },
  {
   "cell_type": "markdown",
   "metadata": {},
   "source": [
    "We can also use the method via the class instead of the instance, and give the instance of interest (the one that we want to know if it is the extreme) as the first argument `self`. Much like this, we can either do `'hi'.upper()` or `str.upper('hi')`."
   ]
  },
  {
   "cell_type": "code",
   "execution_count": 24,
   "metadata": {
    "collapsed": false
   },
   "outputs": [
    {
     "data": {
      "text/plain": [
       "True"
      ]
     },
     "execution_count": 24,
     "metadata": {},
     "output_type": "execute_result"
    }
   ],
   "source": [
    "Point.is_extreme(Point(7,8), Point(1,1), Point(4,5), Point(2,3))"
   ]
  },
  {
   "cell_type": "markdown",
   "metadata": {},
   "source": [
    "## `Rectangle` class\n",
    "\n",
    "We will implement two classes for rectangles, and compare the two implementations.\n",
    "\n",
    "### First implementation - two points\n",
    "\n",
    "The first implementation defines a rectangle by its lower left and upper right vertices."
   ]
  },
  {
   "cell_type": "code",
   "execution_count": 25,
   "metadata": {
    "collapsed": false
   },
   "outputs": [],
   "source": [
    "class Rectangle1():\n",
    "    \"\"\"\n",
    "    Holds a parallel-axes rectangle by storing two points\n",
    "    lower left vertex - llv\n",
    "    upper right vertex - urv\n",
    "    \"\"\"\n",
    "    def __init__(self, lower_left_vertex, upper_right_vertex):\n",
    "        assert isinstance(lower_left_vertex, Point)\n",
    "        assert isinstance(upper_right_vertex, Point)\n",
    "        assert lower_left_vertex < upper_right_vertex \n",
    "        self.llv = lower_left_vertex\n",
    "        self.urv = upper_right_vertex\n",
    "        \n",
    "    def __repr__(self):\n",
    "        representation = \"Rectangle with lower left {0} and upper right {1}\"\n",
    "        return representation.format(self.llv, self.urv)\n",
    "\n",
    "    def dimensions(self):\n",
    "        height = self.urv.y - self.llv.y\n",
    "        width = self.urv.x - self.llv.x\n",
    "        return height, width\n",
    "    \n",
    "    def area(self):\n",
    "        height, width = self.dimensions()\n",
    "        area = height * width\n",
    "        return area\n",
    "    \n",
    "    def transpose(self):\n",
    "        \"\"\"\n",
    "        Reflection with regard to the line passing through lower left vertex with angle 315 (-45) degrees\n",
    "        \"\"\"\n",
    "        height, width = self.dimensions()\n",
    "        self.urv = self.llv\n",
    "        self.llv = Point(self.urv.x - height, self.urv.y - width)"
   ]
  },
  {
   "cell_type": "code",
   "execution_count": 26,
   "metadata": {
    "collapsed": false
   },
   "outputs": [
    {
     "name": "stdout",
     "output_type": "stream",
     "text": [
      "Rectangle with lower left Point(0.0, 0.0) and upper right Point(2.0, 1.0)\n",
      "Area: 2.0\n",
      "Dimensions: (1.0, 2.0)\n",
      "Transposed: Rectangle with lower left Point(-1.0, -2.0) and upper right Point(0.0, 0.0)\n"
     ]
    }
   ],
   "source": [
    "rec = Rectangle1(Point(), Point(2,1))\n",
    "print(rec)\n",
    "print(\"Area:\", rec.area())\n",
    "print(\"Dimensions:\", rec.dimensions())\n",
    "rec.transpose()\n",
    "print(\"Transposed:\", rec)"
   ]
  },
  {
   "cell_type": "markdown",
   "metadata": {},
   "source": [
    "### Second implementation - point and dimensions\n",
    "\n",
    "The second implementation defines a rectangle by the lower left point, the height and the width.\n",
    "\n",
    "We define the exact same methods as in `Rectangle1`, with the same input and output, but  different inner representation / implementation."
   ]
  },
  {
   "cell_type": "code",
   "execution_count": 27,
   "metadata": {
    "collapsed": false
   },
   "outputs": [],
   "source": [
    "class Rectangle2():\n",
    "    \"\"\"\n",
    "    Holds a parallel-axes rectangle by storing lower left point, height and width\n",
    "    \"\"\"\n",
    "    def __init__(self, point, height, width):\n",
    "        assert isinstance(point, Point)\n",
    "        assert isinstance(height, (int,float))\n",
    "        assert isinstance(width, (int,float))\n",
    "        assert height > 0\n",
    "        assert width > 0        \n",
    "        self.point = point\n",
    "        self.height = float(height)\n",
    "        self.width = float(width)\n",
    "        \n",
    "    def __repr__(self):\n",
    "        representation = \"Rectangle with lower left {0} and upper right {1}\"\n",
    "        return representation.format(self.point, Point(self.point.x + self.width, self.point.y + self.height))\n",
    "    \n",
    "    def dimensions(self):\n",
    "        return self.height, self.width\n",
    "\n",
    "    def area(self):\n",
    "        area = self.height * self.width\n",
    "        return area\n",
    "\n",
    "    def transpose(self):\n",
    "        self.point = Point(self.point.x - self.height , self.point.y - self.width)\n",
    "        self.height, self.width = self.width, self.height"
   ]
  },
  {
   "cell_type": "code",
   "execution_count": 29,
   "metadata": {
    "collapsed": false
   },
   "outputs": [
    {
     "name": "stdout",
     "output_type": "stream",
     "text": [
      "Rectangle with lower left Point(0.0, 0.0) and upper right Point(2.0, 1.0)\n",
      "Area: 2.0\n",
      "Dimensions: (1.0, 2.0)\n",
      "Transposed: Rectangle with lower left Point(-1.0, -2.0) and upper right Point(0.0, 0.0)\n"
     ]
    }
   ],
   "source": [
    "rec = Rectangle2(Point(), 1, 2)\n",
    "print(rec)\n",
    "print(\"Area:\", rec.area())\n",
    "print(\"Dimensions:\", rec.dimensions())\n",
    "rec.transpose()\n",
    "print(\"Transposed:\", rec)"
   ]
  },
  {
   "cell_type": "code",
   "execution_count": null,
   "metadata": {
    "collapsed": true
   },
   "outputs": [],
   "source": []
  }
 ],
 "metadata": {
  "kernelspec": {
   "display_name": "Python 3",
   "language": "python",
   "name": "python3"
  },
  "language_info": {
   "codemirror_mode": {
    "name": "ipython",
    "version": 3
   },
   "file_extension": ".py",
   "mimetype": "text/x-python",
   "name": "python",
   "nbconvert_exporter": "python",
   "pygments_lexer": "ipython3",
   "version": "3.5.1"
  }
 },
 "nbformat": 4,
 "nbformat_minor": 0
}
