{
 "cells": [
  {
   "cell_type": "code",
   "execution_count": 177,
   "metadata": {
    "collapsed": false
   },
   "outputs": [],
   "source": [
    "# importing required packages \n",
    "import numpy as np"
   ]
  },
  {
   "cell_type": "code",
   "execution_count": 178,
   "metadata": {
    "collapsed": false
   },
   "outputs": [
    {
     "data": {
      "text/plain": [
       "array([1, 2, 3, 4])"
      ]
     },
     "execution_count": 178,
     "metadata": {},
     "output_type": "execute_result"
    }
   ],
   "source": [
    "# forming numpy array\n",
    "array1 = np.array([1,2,3,4])\n",
    "array1"
   ]
  },
  {
   "cell_type": "code",
   "execution_count": 179,
   "metadata": {
    "collapsed": false
   },
   "outputs": [
    {
     "name": "stdout",
     "output_type": "stream",
     "text": [
      "<type 'numpy.ndarray'>\n",
      "int32\n"
     ]
    }
   ],
   "source": [
    "# checking type of above formed array\n",
    "print type(array1)\n",
    "# checking type of element in the array\n",
    "print array1.dtype"
   ]
  },
  {
   "cell_type": "code",
   "execution_count": 180,
   "metadata": {
    "collapsed": false
   },
   "outputs": [
    {
     "data": {
      "text/plain": [
       "array([ 4.,  3.,  2.,  7.])"
      ]
     },
     "execution_count": 180,
     "metadata": {},
     "output_type": "execute_result"
    }
   ],
   "source": [
    "# Specifying the type of elements in np.array \n",
    "array2 = np.array([4,3,2,7],float)\n",
    "array2"
   ]
  },
  {
   "cell_type": "code",
   "execution_count": 181,
   "metadata": {
    "collapsed": false
   },
   "outputs": [
    {
     "name": "stdout",
     "output_type": "stream",
     "text": [
      "2\n",
      "[ 3.  2.  7.]\n",
      "[1 2]\n"
     ]
    }
   ],
   "source": [
    "# Indexing numpy array \n",
    "print array1[1]\n",
    "print array2[1:]\n",
    "print array1[:2]"
   ]
  },
  {
   "cell_type": "code",
   "execution_count": 182,
   "metadata": {
    "collapsed": false
   },
   "outputs": [
    {
     "data": {
      "text/plain": [
       "array([2, 3])"
      ]
     },
     "execution_count": 182,
     "metadata": {},
     "output_type": "execute_result"
    }
   ],
   "source": [
    "# While indexing if x:y is used then we must note that x is inclusive and y is exclusive\n",
    "array1[1:3]"
   ]
  },
  {
   "cell_type": "code",
   "execution_count": 183,
   "metadata": {
    "collapsed": false
   },
   "outputs": [
    {
     "name": "stdout",
     "output_type": "stream",
     "text": [
      "[1 2 3 4]\n"
     ]
    },
    {
     "data": {
      "text/plain": [
       "3"
      ]
     },
     "execution_count": 183,
     "metadata": {},
     "output_type": "execute_result"
    }
   ],
   "source": [
    "# Negative values in indexing are also allowed \n",
    "print array1\n",
    "array1[-2,]\n",
    "# This returns second element from the end"
   ]
  },
  {
   "cell_type": "code",
   "execution_count": 184,
   "metadata": {
    "collapsed": false
   },
   "outputs": [
    {
     "data": {
      "text/plain": [
       "array([[1, 5, 6],\n",
       "       [7, 8, 9]])"
      ]
     },
     "execution_count": 184,
     "metadata": {},
     "output_type": "execute_result"
    }
   ],
   "source": [
    "# Multidimensional array \n",
    "array3 = np.array([[1,5,6],[7,8,9]])\n",
    "array3"
   ]
  },
  {
   "cell_type": "code",
   "execution_count": 185,
   "metadata": {
    "collapsed": false
   },
   "outputs": [
    {
     "name": "stdout",
     "output_type": "stream",
     "text": [
      "[7 8 9]\n",
      "[7 8 9]\n",
      "[6 9]\n"
     ]
    }
   ],
   "source": [
    "# Indexing multidimensional array\n",
    "print array3[1,]\n",
    "print array3[-1,]\n",
    "print array3[:,-1]"
   ]
  },
  {
   "cell_type": "code",
   "execution_count": 186,
   "metadata": {
    "collapsed": false
   },
   "outputs": [
    {
     "name": "stdout",
     "output_type": "stream",
     "text": [
      "[[5]\n",
      " [8]]\n",
      "[5 8]\n"
     ]
    }
   ],
   "source": [
    "# Indexing multidimensional array\n",
    "print array3[0:2,1:2]\n",
    "print array3[:,1]"
   ]
  },
  {
   "cell_type": "code",
   "execution_count": 187,
   "metadata": {
    "collapsed": false
   },
   "outputs": [
    {
     "data": {
      "text/plain": [
       "(2, 3)"
      ]
     },
     "execution_count": 187,
     "metadata": {},
     "output_type": "execute_result"
    }
   ],
   "source": [
    "# Determing the dimensions of the array using shape which returns number of rows and columns in the array\n",
    "array3.shape"
   ]
  },
  {
   "cell_type": "code",
   "execution_count": 188,
   "metadata": {
    "collapsed": false
   },
   "outputs": [
    {
     "data": {
      "text/plain": [
       "2"
      ]
     },
     "execution_count": 188,
     "metadata": {},
     "output_type": "execute_result"
    }
   ],
   "source": [
    "# len function returns the length of first axis\n",
    "len(array3)"
   ]
  },
  {
   "cell_type": "code",
   "execution_count": 189,
   "metadata": {
    "collapsed": false
   },
   "outputs": [
    {
     "data": {
      "text/plain": [
       "array([ 0,  1,  2,  3,  4,  5,  6,  7,  8,  9, 10, 11])"
      ]
     },
     "execution_count": 189,
     "metadata": {},
     "output_type": "execute_result"
    }
   ],
   "source": [
    "array4 = np.array(range(12))\n",
    "array4"
   ]
  },
  {
   "cell_type": "code",
   "execution_count": 190,
   "metadata": {
    "collapsed": false
   },
   "outputs": [
    {
     "name": "stdout",
     "output_type": "stream",
     "text": [
      "(12,)\n",
      "After changing the dimensions : \n",
      "[[ 0  1  2]\n",
      " [ 3  4  5]\n",
      " [ 6  7  8]\n",
      " [ 9 10 11]]\n"
     ]
    }
   ],
   "source": [
    "# Changing dimensions of the array\n",
    "print array4.shape\n",
    "print 'After changing the dimensions : '\n",
    "array4 = array4.reshape(4,3)\n",
    "print array4"
   ]
  },
  {
   "cell_type": "code",
   "execution_count": 191,
   "metadata": {
    "collapsed": false
   },
   "outputs": [
    {
     "name": "stdout",
     "output_type": "stream",
     "text": [
      "True\n",
      "False\n"
     ]
    }
   ],
   "source": [
    "# Checking Membership in array using 'in'. Returns a boolean value according to presence or absence of element\n",
    "print 4 in array4\n",
    "print 12 in array4"
   ]
  },
  {
   "cell_type": "code",
   "execution_count": 192,
   "metadata": {
    "collapsed": false
   },
   "outputs": [
    {
     "name": "stdout",
     "output_type": "stream",
     "text": [
      "[ 2  3  4  7  8  9 10 23]\n",
      "[ 2  3  4  7  8  9 10 23]\n",
      "\n",
      "After modifying original array\n",
      "[ 2  3  4  7  8 89 10 23]\n",
      "[ 2  3  4  7  8 89 10 23]\n"
     ]
    }
   ],
   "source": [
    "# Copying array elements from one array to another \n",
    "x = np.array([2,3,4,7,8,9,10,23])\n",
    "print x\n",
    "y = x\n",
    "print y\n",
    "# Changing one of the element in original array affects the new array also.\n",
    "print '\\nAfter modifying original array'\n",
    "x[5] = 89\n",
    "print x\n",
    "print y"
   ]
  },
  {
   "cell_type": "code",
   "execution_count": 193,
   "metadata": {
    "collapsed": false
   },
   "outputs": [
    {
     "name": "stdout",
     "output_type": "stream",
     "text": [
      "[ 2  3  4  7  8 89 10 23]\n",
      "\n",
      "After modifying original array\n",
      "[ 2  5  4  7  8 89 10 23]\n",
      "[ 2  3  4  7  8 89 10 23]\n"
     ]
    }
   ],
   "source": [
    "# copy() function to create a seperate array array in memory\n",
    "z = x.copy()\n",
    "print z\n",
    "# changing element in original array will not affect the new array\n",
    "print '\\nAfter modifying original array'\n",
    "x[1] = 5\n",
    "print x\n",
    "print z"
   ]
  },
  {
   "cell_type": "code",
   "execution_count": 194,
   "metadata": {
    "collapsed": false
   },
   "outputs": [
    {
     "data": {
      "text/plain": [
       "'\\x00\\x00\\x00\\x00\\x00\\x00\\xf0?\\x00\\x00\\x00\\x00\\x00\\x00\\x00@\\x00\\x00\\x00\\x00\\x00\\x00\\x08@'"
      ]
     },
     "execution_count": 194,
     "metadata": {},
     "output_type": "execute_result"
    }
   ],
   "source": [
    "# Forming string from array elements using tostring() function\n",
    "string = np.array([1,2,3],float).tostring()\n",
    "string"
   ]
  },
  {
   "cell_type": "code",
   "execution_count": 195,
   "metadata": {
    "collapsed": false
   },
   "outputs": [
    {
     "data": {
      "text/plain": [
       "array([ 1.,  2.,  3.])"
      ]
     },
     "execution_count": 195,
     "metadata": {},
     "output_type": "execute_result"
    }
   ],
   "source": [
    "# Getting array elements back from string format using fromstring()\n",
    "np.fromstring(string)"
   ]
  },
  {
   "cell_type": "code",
   "execution_count": 196,
   "metadata": {
    "collapsed": false
   },
   "outputs": [
    {
     "name": "stdout",
     "output_type": "stream",
     "text": [
      "[ 2  3  4  7  8 89 10 23]\n",
      "\n",
      "Elements in the array after using fill() function\n",
      "[2 2 2 2 2 2 2 2]\n"
     ]
    }
   ],
   "source": [
    "# Filling an array with a scalar value using fill() function\n",
    "print z\n",
    "print '\\nElements in the array after using fill() function'\n",
    "z.fill(2)\n",
    "print z"
   ]
  },
  {
   "cell_type": "code",
   "execution_count": 197,
   "metadata": {
    "collapsed": false
   },
   "outputs": [
    {
     "name": "stdout",
     "output_type": "stream",
     "text": [
      "[[1 5 6]\n",
      " [7 8 9]]\n",
      "\\After transposing the array\n",
      "[[1 7]\n",
      " [5 8]\n",
      " [6 9]]\n"
     ]
    }
   ],
   "source": [
    "# Transposing multi-dimensional array using transpose() function \n",
    "print array3\n",
    "print '\\After transposing the array'\n",
    "print array3.transpose()"
   ]
  },
  {
   "cell_type": "code",
   "execution_count": 198,
   "metadata": {
    "collapsed": false
   },
   "outputs": [
    {
     "name": "stdout",
     "output_type": "stream",
     "text": [
      "[[1 5 6]\n",
      " [7 8 9]]\n",
      "\n",
      "After using flatten() function\n",
      "[1 5 6 7 8 9]\n"
     ]
    }
   ],
   "source": [
    "# Transforming multi-dimensional array into one dimensional using flatten() function\n",
    "print array3\n",
    "print '\\nAfter using flatten() function'\n",
    "print array3.flatten()"
   ]
  },
  {
   "cell_type": "code",
   "execution_count": 199,
   "metadata": {
    "collapsed": false
   },
   "outputs": [
    {
     "data": {
      "text/plain": [
       "array([  5,   6,   7,  78,  99, 100,  12])"
      ]
     },
     "execution_count": 199,
     "metadata": {},
     "output_type": "execute_result"
    }
   ],
   "source": [
    "# One dimensional arrays can be merged using the function conctenate() \n",
    "a = np.array([5,6,7])\n",
    "b = np.array([78,99,100,12])\n",
    "np.concatenate((a,b))"
   ]
  },
  {
   "cell_type": "code",
   "execution_count": 200,
   "metadata": {
    "collapsed": false
   },
   "outputs": [
    {
     "name": "stdout",
     "output_type": "stream",
     "text": [
      "Without mentioning axis value\n",
      "\n",
      "[[10 11]\n",
      " [34 22]\n",
      " [12 13]\n",
      " [15 16]]\n",
      "\n",
      "Mentioning axis value 0 for the first dimension\n"
     ]
    },
    {
     "data": {
      "text/plain": [
       "array([[10, 11],\n",
       "       [34, 22],\n",
       "       [12, 13],\n",
       "       [15, 16]])"
      ]
     },
     "execution_count": 200,
     "metadata": {},
     "output_type": "execute_result"
    }
   ],
   "source": [
    "# Multi-dimensional arrays can also be merged using concatenate() and mentioning axis. By default it considers first dimension.\n",
    "a = np.array([[10,11],[34,22]])\n",
    "b = np.array([[12,13],[15,16]])\n",
    "print 'Without mentioning axis value\\n'\n",
    "print np.concatenate((a,b))\n",
    "print '\\nMentioning axis value 0 for the first dimension'\n",
    "np.concatenate((a,b),axis=0)"
   ]
  },
  {
   "cell_type": "code",
   "execution_count": 201,
   "metadata": {
    "collapsed": false
   },
   "outputs": [
    {
     "data": {
      "text/plain": [
       "array([[10, 11, 12, 13],\n",
       "       [34, 22, 15, 16]])"
      ]
     },
     "execution_count": 201,
     "metadata": {},
     "output_type": "execute_result"
    }
   ],
   "source": [
    "# Changing axis to point to second dimension by making axis = 1\n",
    "np.concatenate((a,b),axis = 1)"
   ]
  },
  {
   "cell_type": "code",
   "execution_count": 202,
   "metadata": {
    "collapsed": false
   },
   "outputs": [
    {
     "data": {
      "text/plain": [
       "array([0, 1, 2, 3, 4, 5, 6])"
      ]
     },
     "execution_count": 202,
     "metadata": {},
     "output_type": "execute_result"
    }
   ],
   "source": [
    "# Alternative way of creating array using arange() function\n",
    "# If we mention only one single scalar value 'n' then it makes an array of 'n' starting from index 0  \n",
    "a = np.arange(7)\n",
    "a"
   ]
  },
  {
   "cell_type": "code",
   "execution_count": 203,
   "metadata": {
    "collapsed": false
   },
   "outputs": [
    {
     "data": {
      "text/plain": [
       "array([1, 3, 5, 7, 9])"
      ]
     },
     "execution_count": 203,
     "metadata": {},
     "output_type": "execute_result"
    }
   ],
   "source": [
    "# If we mention np.arange(x,y,increment) then it starts the array elements from x and y is exclusive. \n",
    "# Increment value acts as a step value.\n",
    "np.arange(1,10,2)"
   ]
  },
  {
   "cell_type": "code",
   "execution_count": 204,
   "metadata": {
    "collapsed": false
   },
   "outputs": [
    {
     "data": {
      "text/plain": [
       "array([ 1.,  1.,  1.,  1.,  1.,  1.,  1.,  1.])"
      ]
     },
     "execution_count": 204,
     "metadata": {},
     "output_type": "execute_result"
    }
   ],
   "source": [
    "# There are some functions like np.ones() and np.zeros() to create arrays having all values 1 and 0 respectively.\n",
    "# We need to mention the number of elements and their type in the array\n",
    "np.ones(8,dtype=float)"
   ]
  },
  {
   "cell_type": "code",
   "execution_count": 205,
   "metadata": {
    "collapsed": false
   },
   "outputs": [
    {
     "data": {
      "text/plain": [
       "array([[0, 0],\n",
       "       [0, 0],\n",
       "       [0, 0]])"
      ]
     },
     "execution_count": 205,
     "metadata": {},
     "output_type": "execute_result"
    }
   ],
   "source": [
    "# Multi-dimensional arrays can also be formed by mentioning number of rows and columns\n",
    "np.zeros((3,2), dtype = int)"
   ]
  },
  {
   "cell_type": "code",
   "execution_count": 206,
   "metadata": {
    "collapsed": false
   },
   "outputs": [
    {
     "name": "stdout",
     "output_type": "stream",
     "text": [
      "(2, 2)\n"
     ]
    },
    {
     "data": {
      "text/plain": [
       "array([[0, 0],\n",
       "       [0, 0]])"
      ]
     },
     "execution_count": 206,
     "metadata": {},
     "output_type": "execute_result"
    }
   ],
   "source": [
    "# There are functions like np.zeros_like(arrayname) and np.ones_like(arrayname) to create new arrays like the exisitng ones\n",
    "a = np.array([[2,3],[4,5]], dtype = int)\n",
    "a\n",
    "print a.shape\n",
    "np.zeros_like(a)"
   ]
  },
  {
   "cell_type": "code",
   "execution_count": 207,
   "metadata": {
    "collapsed": false
   },
   "outputs": [
    {
     "data": {
      "text/plain": [
       "array([[1, 0, 0],\n",
       "       [0, 1, 0],\n",
       "       [0, 0, 1]])"
      ]
     },
     "execution_count": 207,
     "metadata": {},
     "output_type": "execute_result"
    }
   ],
   "source": [
    "# Identity matrices can also be formed using np.identity() function by mentioning 'n' value as a parameter\n",
    "np.identity(3,dtype = int)"
   ]
  },
  {
   "cell_type": "code",
   "execution_count": 208,
   "metadata": {
    "collapsed": false
   },
   "outputs": [
    {
     "name": "stdout",
     "output_type": "stream",
     "text": [
      "[1 2 3]\n",
      "[4 5 6]\n",
      "After Addition :\n",
      "[5 7 9]\n"
     ]
    }
   ],
   "source": [
    "# Arithmetic operations on arrays are performed element-by-element. So in operations like addition or subtraction, the number \n",
    "# of elements in the arrays should be same. \n",
    "a = np.array([1,2,3])\n",
    "b = np.array([4,5,6])\n",
    "print a\n",
    "print b\n",
    "print 'After Addition :'\n",
    "print a + b"
   ]
  },
  {
   "cell_type": "code",
   "execution_count": 209,
   "metadata": {
    "collapsed": false
   },
   "outputs": [
    {
     "name": "stdout",
     "output_type": "stream",
     "text": [
      "After Subtraction\n",
      "[3 3 3]\n"
     ]
    }
   ],
   "source": [
    "print 'After Subtraction'\n",
    "print b - a"
   ]
  },
  {
   "cell_type": "code",
   "execution_count": 210,
   "metadata": {
    "collapsed": false
   },
   "outputs": [
    {
     "name": "stdout",
     "output_type": "stream",
     "text": [
      "After Multiplication\n",
      "[ 4 10 18]\n"
     ]
    }
   ],
   "source": [
    "print 'After Multiplication'\n",
    "print a * b"
   ]
  },
  {
   "cell_type": "code",
   "execution_count": 211,
   "metadata": {
    "collapsed": false
   },
   "outputs": [
    {
     "name": "stdout",
     "output_type": "stream",
     "text": [
      "After Division\n",
      "[4 2 2]\n"
     ]
    }
   ],
   "source": [
    "print 'After Division'\n",
    "print b/a"
   ]
  },
  {
   "cell_type": "code",
   "execution_count": 212,
   "metadata": {
    "collapsed": false
   },
   "outputs": [
    {
     "name": "stdout",
     "output_type": "stream",
     "text": [
      "After Modulo Operation\n",
      "[0 1 0]\n"
     ]
    }
   ],
   "source": [
    "print 'After Modulo Operation'\n",
    "print b%a"
   ]
  },
  {
   "cell_type": "code",
   "execution_count": 213,
   "metadata": {
    "collapsed": false
   },
   "outputs": [
    {
     "name": "stdout",
     "output_type": "stream",
     "text": [
      "Power operation\n",
      "[  4  25 216]\n"
     ]
    }
   ],
   "source": [
    "print 'Power operation'\n",
    "print b**a"
   ]
  },
  {
   "cell_type": "code",
   "execution_count": 214,
   "metadata": {
    "collapsed": false
   },
   "outputs": [
    {
     "data": {
      "text/plain": [
       "array([[10,  8],\n",
       "       [20, 10]])"
      ]
     },
     "execution_count": 214,
     "metadata": {},
     "output_type": "execute_result"
    }
   ],
   "source": [
    "# For 2D arrays, multiplication operation remains element wise.\n",
    "x = np.array([[1,2],[4,5]])\n",
    "y = np.array([[10,4],[5,2]])\n",
    "x * y"
   ]
  },
  {
   "cell_type": "code",
   "execution_count": 215,
   "metadata": {
    "collapsed": false
   },
   "outputs": [],
   "source": [
    "# If arrays are not of same size, then error occurs.\n",
    "a = np.array([51,42,78])\n",
    "b = np.array([21,4])"
   ]
  },
  {
   "cell_type": "code",
   "execution_count": 216,
   "metadata": {
    "collapsed": false
   },
   "outputs": [
    {
     "data": {
      "text/plain": [
       "array([[3, 5],\n",
       "       [5, 7],\n",
       "       [7, 9]])"
      ]
     },
     "execution_count": 216,
     "metadata": {},
     "output_type": "execute_result"
    }
   ],
   "source": [
    "# Arrays that do not have same dimsensions will be broadcasted by python to perform mathematical operations. \n",
    "# smaller array will be repeated as necessary to perform the operation.  \n",
    "a = np.array([[1,2],[3,4],[5,6]])\n",
    "b = np.array([[2,3]])\n",
    "a + b"
   ]
  },
  {
   "cell_type": "code",
   "execution_count": 217,
   "metadata": {
    "collapsed": false
   },
   "outputs": [
    {
     "name": "stdout",
     "output_type": "stream",
     "text": [
      "[ 1  2 45 67 44 23 56 34]\n",
      "After Addition\n",
      "[ 3  4 47 69 46 25 58 36]\n",
      "After Subtraction\n",
      "[-1  0 43 65 42 21 54 32]\n",
      "After Multiplication\n",
      "[  2   4  90 134  88  46 112  68]\n",
      "After Division\n",
      "[ 0  1 22 33 22 11 28 17]\n"
     ]
    }
   ],
   "source": [
    "# We can also add, subtract, multiply and divide scalar values element-wise   \n",
    "a = np.array([1,2,45,67,44,23,56,34])\n",
    "print a\n",
    "print 'After Addition'\n",
    "print a + 2\n",
    "print 'After Subtraction'\n",
    "print a - 2\n",
    "print 'After Multiplication'\n",
    "print a * 2\n",
    "print 'After Division'\n",
    "print a/2"
   ]
  },
  {
   "cell_type": "code",
   "execution_count": 218,
   "metadata": {
    "collapsed": false
   },
   "outputs": [
    {
     "name": "stdout",
     "output_type": "stream",
     "text": [
      "[ 25  64 100]\n"
     ]
    }
   ],
   "source": [
    "# There are several other operations that can be performed elementwise on numpy array\n",
    "# Functions like ceil, floor, square, and sqrt are also available\n",
    "# Considering an example for each \n",
    "a = np.array([25,64,100])\n",
    "print a"
   ]
  },
  {
   "cell_type": "code",
   "execution_count": 219,
   "metadata": {
    "collapsed": false
   },
   "outputs": [
    {
     "name": "stdout",
     "output_type": "stream",
     "text": [
      "Performing Square root\n",
      "[  5.   8.  10.]\n",
      "Performing Square\n",
      "[  625  4096 10000]\n",
      "float64\n"
     ]
    }
   ],
   "source": [
    "print 'Performing Square root'\n",
    "print np.sqrt(a)\n",
    "print 'Performing Square'\n",
    "print np.square(a)\n",
    "print np.sqrt(a).dtype"
   ]
  },
  {
   "cell_type": "code",
   "execution_count": 220,
   "metadata": {
    "collapsed": false
   },
   "outputs": [
    {
     "name": "stdout",
     "output_type": "stream",
     "text": [
      "[ 1.5  4.8  6.7  8.9  2.1  3.7  9.9]\n",
      "Ceil Operation\n",
      "[  2.   5.   7.   9.   3.   4.  10.]\n",
      "Floor Operation\n",
      "[ 1.  4.  6.  8.  2.  3.  9.]\n"
     ]
    }
   ],
   "source": [
    "# Performing ceil and floor \n",
    "a = np.array([1.5,4.8,6.7,8.9,2.1,3.7,9.9])\n",
    "print a\n",
    "print 'Ceil Operation'\n",
    "print np.ceil(a)\n",
    "print 'Floor Operation'\n",
    "print np.floor(a)"
   ]
  },
  {
   "cell_type": "code",
   "execution_count": 221,
   "metadata": {
    "collapsed": false
   },
   "outputs": [
    {
     "data": {
      "text/plain": [
       "array([  2.,   5.,   7.,   9.,   2.,   4.,  10.])"
      ]
     },
     "execution_count": 221,
     "metadata": {},
     "output_type": "execute_result"
    }
   ],
   "source": [
    "# Rounding off the array elements\n",
    "np.rint(a)"
   ]
  },
  {
   "cell_type": "code",
   "execution_count": 222,
   "metadata": {
    "collapsed": false
   },
   "outputs": [
    {
     "data": {
      "text/plain": [
       "319"
      ]
     },
     "execution_count": 222,
     "metadata": {},
     "output_type": "execute_result"
    }
   ],
   "source": [
    "# Array operations using built-in functions \n",
    "# For obtaining sum of all the elements in the array, we use function arrayname.sum()\n",
    "a = np.array([21,23,54,10,45,67,99])\n",
    "a.sum()"
   ]
  },
  {
   "cell_type": "code",
   "execution_count": 223,
   "metadata": {
    "collapsed": false
   },
   "outputs": [
    {
     "data": {
      "text/plain": [
       "541446372"
      ]
     },
     "execution_count": 223,
     "metadata": {},
     "output_type": "execute_result"
    }
   ],
   "source": [
    "# For obtaining product of all the elements in the array, there is a function which can be called by arrayname.prod()\n",
    "a.prod()"
   ]
  },
  {
   "cell_type": "code",
   "execution_count": 224,
   "metadata": {
    "collapsed": false
   },
   "outputs": [
    {
     "data": {
      "text/plain": [
       "319"
      ]
     },
     "execution_count": 224,
     "metadata": {},
     "output_type": "execute_result"
    }
   ],
   "source": [
    "# There are some standalone functions in NumPy for array operations \n",
    "# For sum, np.sum() can be used\n",
    "np.sum(a)"
   ]
  },
  {
   "cell_type": "code",
   "execution_count": 225,
   "metadata": {
    "collapsed": false
   },
   "outputs": [
    {
     "data": {
      "text/plain": [
       "541446372"
      ]
     },
     "execution_count": 225,
     "metadata": {},
     "output_type": "execute_result"
    }
   ],
   "source": [
    "# For product, np.prod() can be used\n",
    "np.prod(a)"
   ]
  },
  {
   "cell_type": "code",
   "execution_count": 226,
   "metadata": {
    "collapsed": false
   },
   "outputs": [
    {
     "name": "stdout",
     "output_type": "stream",
     "text": [
      "Mean\n",
      "45.5714285714\n",
      "Median\n",
      "45.0\n"
     ]
    }
   ],
   "source": [
    "# We also have functions to obtain mean and median \n",
    "print 'Mean'\n",
    "print np.mean(a)\n",
    "print 'Median'\n",
    "print np.median(a)"
   ]
  },
  {
   "cell_type": "code",
   "execution_count": 227,
   "metadata": {
    "collapsed": false
   },
   "outputs": [
    {
     "name": "stdout",
     "output_type": "stream",
     "text": [
      "Variance of Array\n",
      "823.387755102\n",
      "Standard Deviation of Array\n",
      "28.6947339263\n"
     ]
    }
   ],
   "source": [
    "# We also have functions for obtaining variance and standard deviation\n",
    "print 'Variance of Array'\n",
    "print a.var()\n",
    "print 'Standard Deviation of Array'\n",
    "print a.std()"
   ]
  },
  {
   "cell_type": "code",
   "execution_count": 228,
   "metadata": {
    "collapsed": false
   },
   "outputs": [
    {
     "data": {
      "text/plain": [
       "99"
      ]
     },
     "execution_count": 228,
     "metadata": {},
     "output_type": "execute_result"
    }
   ],
   "source": [
    "# To find maximum and minimum, we have functions called max() and min() respectively.\n",
    "a.max()"
   ]
  },
  {
   "cell_type": "code",
   "execution_count": 229,
   "metadata": {
    "collapsed": false
   },
   "outputs": [
    {
     "data": {
      "text/plain": [
       "10"
      ]
     },
     "execution_count": 229,
     "metadata": {},
     "output_type": "execute_result"
    }
   ],
   "source": [
    "a.min()"
   ]
  },
  {
   "cell_type": "code",
   "execution_count": 230,
   "metadata": {
    "collapsed": false
   },
   "outputs": [
    {
     "data": {
      "text/plain": [
       "6"
      ]
     },
     "execution_count": 230,
     "metadata": {},
     "output_type": "execute_result"
    }
   ],
   "source": [
    "# We can also get array indices for maximum and minimum element using argmax() and argmin() respectively.\n",
    "a.argmax()"
   ]
  },
  {
   "cell_type": "code",
   "execution_count": 231,
   "metadata": {
    "collapsed": false
   },
   "outputs": [
    {
     "data": {
      "text/plain": [
       "3"
      ]
     },
     "execution_count": 231,
     "metadata": {},
     "output_type": "execute_result"
    }
   ],
   "source": [
    "a.argmin()"
   ]
  },
  {
   "cell_type": "code",
   "execution_count": 232,
   "metadata": {
    "collapsed": false
   },
   "outputs": [
    {
     "name": "stdout",
     "output_type": "stream",
     "text": [
      "[10, 21, 23, 45, 54, 67, 99]\n",
      "<type 'list'>\n"
     ]
    }
   ],
   "source": [
    "# We can also sort array elements using sorted() and sort() function\n",
    "# sorted() returns list \n",
    "print sorted(a)\n",
    "print type(sorted(a))"
   ]
  },
  {
   "cell_type": "code",
   "execution_count": 233,
   "metadata": {
    "collapsed": false
   },
   "outputs": [
    {
     "name": "stdout",
     "output_type": "stream",
     "text": [
      "[10 21 23 45 54 67 99]\n"
     ]
    }
   ],
   "source": [
    "# sort() - simply sorts the elements in the array\n",
    "a.sort()\n",
    "print a\n"
   ]
  },
  {
   "cell_type": "code",
   "execution_count": 234,
   "metadata": {
    "collapsed": false
   },
   "outputs": [
    {
     "data": {
      "text/plain": [
       "array([50, 50, 50, 50, 54, 67, 80])"
      ]
     },
     "execution_count": 234,
     "metadata": {},
     "output_type": "execute_result"
    }
   ],
   "source": [
    "# If we want values in the array to lie within a specified range, function called clip() can be used\n",
    "a.clip(50,80)"
   ]
  },
  {
   "cell_type": "code",
   "execution_count": 235,
   "metadata": {
    "collapsed": false
   },
   "outputs": [
    {
     "data": {
      "text/plain": [
       "array([[ 1.        ,  0.85890744],\n",
       "       [ 0.85890744,  1.        ]])"
      ]
     },
     "execution_count": 235,
     "metadata": {},
     "output_type": "execute_result"
    }
   ],
   "source": [
    "# To obtain correlation coefficient, we can use function np.corrcoef() \n",
    "x = np.array([[20,23,45,46,50],[11,23,56,34,78]])\n",
    "np.corrcoef(x)"
   ]
  },
  {
   "cell_type": "code",
   "execution_count": 236,
   "metadata": {
    "collapsed": false
   },
   "outputs": [
    {
     "data": {
      "text/plain": [
       "array(594.9166666666666)"
      ]
     },
     "execution_count": 236,
     "metadata": {},
     "output_type": "execute_result"
    }
   ],
   "source": [
    "# We can obtain covariance value using function np.cov()\n",
    "a = np.array([23,45,67,78])\n",
    "np.cov(a)"
   ]
  },
  {
   "cell_type": "code",
   "execution_count": 237,
   "metadata": {
    "collapsed": false
   },
   "outputs": [
    {
     "data": {
      "text/plain": [
       "array([ 2,  3,  5,  6,  7,  8, 11])"
      ]
     },
     "execution_count": 237,
     "metadata": {},
     "output_type": "execute_result"
    }
   ],
   "source": [
    "# To determine number of sistinct elements in the array, we can use unique() function of NumPy\n",
    "a = np.array([11,2,2,3,5,11,6,5,7,8])\n",
    "np.unique(a)"
   ]
  },
  {
   "cell_type": "code",
   "execution_count": 238,
   "metadata": {
    "collapsed": false
   },
   "outputs": [
    {
     "data": {
      "text/plain": [
       "array([False,  True, False,  True, False,  True], dtype=bool)"
      ]
     },
     "execution_count": 238,
     "metadata": {},
     "output_type": "execute_result"
    }
   ],
   "source": [
    "# Array comparisons can also be done element wise\n",
    "a = np.array([45,33,23,4,11,5])\n",
    "b = np.array([2,33,22,4,10,5])\n",
    "a == b"
   ]
  },
  {
   "cell_type": "code",
   "execution_count": 239,
   "metadata": {
    "collapsed": false
   },
   "outputs": [
    {
     "data": {
      "text/plain": [
       "array([ True,  True,  True, False, False, False], dtype=bool)"
      ]
     },
     "execution_count": 239,
     "metadata": {},
     "output_type": "execute_result"
    }
   ],
   "source": [
    "a > 20"
   ]
  },
  {
   "cell_type": "code",
   "execution_count": 240,
   "metadata": {
    "collapsed": false
   },
   "outputs": [
    {
     "data": {
      "text/plain": [
       "array([False, False,  True,  True,  True,  True], dtype=bool)"
      ]
     },
     "execution_count": 240,
     "metadata": {},
     "output_type": "execute_result"
    }
   ],
   "source": [
    "a < 25"
   ]
  },
  {
   "cell_type": "code",
   "execution_count": 241,
   "metadata": {
    "collapsed": false
   },
   "outputs": [
    {
     "data": {
      "text/plain": [
       "array([False, False,  True, False,  True, False], dtype=bool)"
      ]
     },
     "execution_count": 241,
     "metadata": {},
     "output_type": "execute_result"
    }
   ],
   "source": [
    "(a > 10) & (a < 30)"
   ]
  },
  {
   "cell_type": "code",
   "execution_count": 242,
   "metadata": {
    "collapsed": false
   },
   "outputs": [
    {
     "data": {
      "text/plain": [
       "array([False,  True, False,  True, False,  True], dtype=bool)"
      ]
     },
     "execution_count": 242,
     "metadata": {},
     "output_type": "execute_result"
    }
   ],
   "source": [
    "c = (a<=b)\n",
    "c"
   ]
  },
  {
   "cell_type": "code",
   "execution_count": 243,
   "metadata": {
    "collapsed": false
   },
   "outputs": [
    {
     "name": "stdout",
     "output_type": "stream",
     "text": [
      "True\n",
      "False\n"
     ]
    }
   ],
   "source": [
    "# We can use any() and all() function to check whether true value is present or not\n",
    "print any(c)\n",
    "print all(c)"
   ]
  },
  {
   "cell_type": "code",
   "execution_count": 244,
   "metadata": {
    "collapsed": false
   },
   "outputs": [
    {
     "data": {
      "text/plain": [
       "True"
      ]
     },
     "execution_count": 244,
     "metadata": {},
     "output_type": "execute_result"
    }
   ],
   "source": [
    "all(np.array([1,2,3]) == np.array([1,2,3]))"
   ]
  },
  {
   "cell_type": "code",
   "execution_count": 245,
   "metadata": {
    "collapsed": false
   },
   "outputs": [
    {
     "data": {
      "text/plain": [
       "array([ True, False, False, False, False, False,  True, False, False, False], dtype=bool)"
      ]
     },
     "execution_count": 245,
     "metadata": {},
     "output_type": "execute_result"
    }
   ],
   "source": [
    "# We can also perform compound boolean expressions element-wise using np.logical_and(), np.logical_or() and np.logical_not().\n",
    "a = np.array([23,45,6,7,8,12,34,2,1,5])\n",
    "b = np.array([20,40,3,4,6,7,30,12,36,20])\n",
    "np.logical_and(a > 20, a < 40) "
   ]
  },
  {
   "cell_type": "code",
   "execution_count": 246,
   "metadata": {
    "collapsed": false
   },
   "outputs": [
    {
     "data": {
      "text/plain": [
       "array([ True,  True,  True,  True,  True,  True,  True,  True,  True,  True], dtype=bool)"
      ]
     },
     "execution_count": 246,
     "metadata": {},
     "output_type": "execute_result"
    }
   ],
   "source": [
    "np.logical_or(a > 20, a < 40)"
   ]
  },
  {
   "cell_type": "code",
   "execution_count": 247,
   "metadata": {
    "collapsed": false
   },
   "outputs": [
    {
     "data": {
      "text/plain": [
       "array([False, False,  True,  True,  True, False, False,  True,  True,  True], dtype=bool)"
      ]
     },
     "execution_count": 247,
     "metadata": {},
     "output_type": "execute_result"
    }
   ],
   "source": [
    "np.logical_not(a > 10)"
   ]
  },
  {
   "cell_type": "code",
   "execution_count": 248,
   "metadata": {
    "collapsed": false
   },
   "outputs": [
    {
     "name": "stdout",
     "output_type": "stream",
     "text": [
      "(array([0, 1, 3, 4, 6, 7, 9]),)\n",
      "<type 'tuple'>\n"
     ]
    }
   ],
   "source": [
    "# To determine the indices of array where the value is nonzero. \n",
    "a = np.array([1,2,0,4,5,0,7,9,0,5])\n",
    "print a.nonzero()\n",
    "print type(a.nonzero())"
   ]
  },
  {
   "cell_type": "code",
   "execution_count": 249,
   "metadata": {
    "collapsed": false
   },
   "outputs": [
    {
     "name": "stdout",
     "output_type": "stream",
     "text": [
      "[1 1 1 1 1 0 0 0]\n",
      "5\n"
     ]
    }
   ],
   "source": [
    "a = np.array([11,15,56,23,20,10,8,4])\n",
    "print np.where(a>10,1,0)\n",
    "print sum(np.where(a>10,1,0))"
   ]
  },
  {
   "cell_type": "code",
   "execution_count": 250,
   "metadata": {
    "collapsed": false
   },
   "outputs": [
    {
     "name": "stdout",
     "output_type": "stream",
     "text": [
      "[  1.   2.  nan   3.   6.  inf]\n"
     ]
    },
    {
     "data": {
      "text/plain": [
       "array([False, False,  True, False, False, False], dtype=bool)"
      ]
     },
     "execution_count": 250,
     "metadata": {},
     "output_type": "execute_result"
    }
   ],
   "source": [
    "# We can also use functions np.isnan() and np.isfinite() to check NA and Infinite values\n",
    "a = np.array([1,2,np.NaN,3,6,np.Inf])\n",
    "print a\n",
    "np.isnan(a)"
   ]
  },
  {
   "cell_type": "code",
   "execution_count": 251,
   "metadata": {
    "collapsed": false
   },
   "outputs": [
    {
     "data": {
      "text/plain": [
       "array([ True,  True, False,  True,  True, False], dtype=bool)"
      ]
     },
     "execution_count": 251,
     "metadata": {},
     "output_type": "execute_result"
    }
   ],
   "source": [
    "np.isfinite(a)"
   ]
  },
  {
   "cell_type": "code",
   "execution_count": 252,
   "metadata": {
    "collapsed": false
   },
   "outputs": [
    {
     "data": {
      "text/plain": [
       "array([False, False, False, False, False,  True], dtype=bool)"
      ]
     },
     "execution_count": 252,
     "metadata": {},
     "output_type": "execute_result"
    }
   ],
   "source": [
    "np.isinf(a)"
   ]
  },
  {
   "cell_type": "code",
   "execution_count": 253,
   "metadata": {
    "collapsed": false
   },
   "outputs": [
    {
     "name": "stdout",
     "output_type": "stream",
     "text": [
      "[[ 4  5  6  7]\n",
      " [34 30 67 89]\n",
      " [23 20 45 33]]\n"
     ]
    },
    {
     "data": {
      "text/plain": [
       "array([23, 20])"
      ]
     },
     "execution_count": 253,
     "metadata": {},
     "output_type": "execute_result"
    }
   ],
   "source": [
    "# Checking for elements within specific range for 2D arrays\n",
    "a = np.array([[4,5,6,7],[34,30,67,89],[23,20,45,33]])\n",
    "print a\n",
    "a[(a>10)&(a<30)]"
   ]
  },
  {
   "cell_type": "code",
   "execution_count": 254,
   "metadata": {
    "collapsed": false
   },
   "outputs": [
    {
     "data": {
      "text/plain": [
       "array([[False, False, False, False],\n",
       "       [ True,  True, False, False],\n",
       "       [ True,  True, False,  True]], dtype=bool)"
      ]
     },
     "execution_count": 254,
     "metadata": {},
     "output_type": "execute_result"
    }
   ],
   "source": [
    "(a>10)&(a<35)"
   ]
  },
  {
   "cell_type": "code",
   "execution_count": 255,
   "metadata": {
    "collapsed": false
   },
   "outputs": [
    {
     "name": "stdout",
     "output_type": "stream",
     "text": [
      "[ 56  45  40  99 100 105  44  34]\n",
      "Indices Array :\n",
      "[1 2 5 6 3 4]\n"
     ]
    },
    {
     "data": {
      "text/plain": [
       "array([ 45,  40, 105,  44,  99, 100])"
      ]
     },
     "execution_count": 255,
     "metadata": {},
     "output_type": "execute_result"
    }
   ],
   "source": [
    "# We can also perform selection of some specific values with arrays as indices\n",
    "a = np.array([56,45,40,99,100,105,44,34])\n",
    "b = np.array([1,2,5,6,3,4])\n",
    "print a\n",
    "print 'Indices Array :'\n",
    "print b\n",
    "a[b]"
   ]
  },
  {
   "cell_type": "code",
   "execution_count": 256,
   "metadata": {
    "collapsed": false
   },
   "outputs": [
    {
     "data": {
      "text/plain": [
       "array([ 45,  40, 105,  44,  99, 100])"
      ]
     },
     "execution_count": 256,
     "metadata": {},
     "output_type": "execute_result"
    }
   ],
   "source": [
    "# There is a function called take() which is used in similar manner for selection like the above approach\n",
    "# We can also mention axis value for 2D arrays. - take(indices_array, axis)\n",
    "a.take(b)"
   ]
  },
  {
   "cell_type": "code",
   "execution_count": 257,
   "metadata": {
    "collapsed": false
   },
   "outputs": [
    {
     "name": "stdout",
     "output_type": "stream",
     "text": [
      "[ 56   0   0  99   0 105  44  34]\n"
     ]
    }
   ],
   "source": [
    "# We also have put() function to place some values at specific positions.\n",
    "a.put([1,2,4],0)\n",
    "print a"
   ]
  },
  {
   "cell_type": "code",
   "execution_count": 258,
   "metadata": {
    "collapsed": false
   },
   "outputs": [
    {
     "name": "stdout",
     "output_type": "stream",
     "text": [
      "[  5   0   0   6   7 105  44  34]\n"
     ]
    }
   ],
   "source": [
    "# Here the source will be repeated if necessary\n",
    "a.put([0,3,4],[5,6,7])\n",
    "print a"
   ]
  },
  {
   "cell_type": "code",
   "execution_count": 259,
   "metadata": {
    "collapsed": false
   },
   "outputs": [
    {
     "name": "stdout",
     "output_type": "stream",
     "text": [
      "[11  2 33  5]\n",
      "[ 1 12  2 10]\n",
      "Dot Product of a and b\n"
     ]
    },
    {
     "data": {
      "text/plain": [
       "151"
      ]
     },
     "execution_count": 259,
     "metadata": {},
     "output_type": "execute_result"
    }
   ],
   "source": [
    "# NumPy has some built-in functions for vector and array mathematics.\n",
    "# Considering two numpy one dimensional arrays and obtaining dot product using np.dot() function\n",
    "a = np.array([11,2,33,5])\n",
    "b = np.array([1,12,2,10])\n",
    "print a\n",
    "print b\n",
    "print 'Dot Product of a and b'\n",
    "np.dot(a,b)"
   ]
  },
  {
   "cell_type": "code",
   "execution_count": 260,
   "metadata": {
    "collapsed": false
   },
   "outputs": [
    {
     "data": {
      "text/plain": [
       "array([32, 37])"
      ]
     },
     "execution_count": 260,
     "metadata": {},
     "output_type": "execute_result"
    }
   ],
   "source": [
    "# For 2D NumPy array, using dot() function is similar to matrix multiplication\n",
    "a = np.array([[10,11],[4,5]])\n",
    "b = np.array([2,3])\n",
    "np.dot(b,a)"
   ]
  },
  {
   "cell_type": "code",
   "execution_count": 261,
   "metadata": {
    "collapsed": false
   },
   "outputs": [
    {
     "data": {
      "text/plain": [
       "array([53, 23])"
      ]
     },
     "execution_count": 261,
     "metadata": {},
     "output_type": "execute_result"
    }
   ],
   "source": [
    "np.dot(a,b)"
   ]
  },
  {
   "cell_type": "code",
   "execution_count": 262,
   "metadata": {
    "collapsed": false
   },
   "outputs": [
    {
     "name": "stdout",
     "output_type": "stream",
     "text": [
      "[53 23]\n",
      "[53 23]\n"
     ]
    }
   ],
   "source": [
    "# Numpy also has functions for inner, outer and cross product of vectors and matrices.\n",
    "# For vectors, inner product is same as dot product.\n",
    "print np.inner(a,b)\n",
    "print np.dot(a,b)"
   ]
  },
  {
   "cell_type": "code",
   "execution_count": 263,
   "metadata": {
    "collapsed": false
   },
   "outputs": [
    {
     "data": {
      "text/plain": [
       "array([[20, 30],\n",
       "       [22, 33],\n",
       "       [ 8, 12],\n",
       "       [10, 15]])"
      ]
     },
     "execution_count": 263,
     "metadata": {},
     "output_type": "execute_result"
    }
   ],
   "source": [
    "# For outer product, we use numpy.outer() function\n",
    "np.outer(a,b)"
   ]
  },
  {
   "cell_type": "code",
   "execution_count": 265,
   "metadata": {
    "collapsed": false
   },
   "outputs": [
    {
     "data": {
      "text/plain": [
       "array([ 9,  4, -5])"
      ]
     },
     "execution_count": 265,
     "metadata": {},
     "output_type": "execute_result"
    }
   ],
   "source": [
    "# Cross Product for matrices and vectors can be obtained using function numpy.cross().\n",
    "a = np.array([1,4,5])\n",
    "b = np.array([2,3,6])\n",
    "np.cross(a,b)"
   ]
  },
  {
   "cell_type": "code",
   "execution_count": 266,
   "metadata": {
    "collapsed": false
   },
   "outputs": [
    {
     "data": {
      "text/plain": [
       "-249.99999999999989"
      ]
     },
     "execution_count": 266,
     "metadata": {},
     "output_type": "execute_result"
    }
   ],
   "source": [
    "# NumPy also has built-in functions for linear algebra calculations \n",
    "# There is a subpackage called 'numpy.linalg' which provides functions for vector and matrix arithmetics\n",
    "# Considering a matrix and obtaining determinant, rank and sign and natural logarithm of determinant of matrix.\n",
    "a = np.array([[10,20],[35,45]])\n",
    "\n",
    "# To obtain determinant of matrix, we use function numpy.linalg.det().  \n",
    "np.linalg.det(a)"
   ]
  },
  {
   "cell_type": "code",
   "execution_count": 269,
   "metadata": {
    "collapsed": false
   },
   "outputs": [
    {
     "name": "stdout",
     "output_type": "stream",
     "text": [
      "[[12 13 14]\n",
      " [24 26 28]\n",
      " [ 1  2  3]]\n"
     ]
    },
    {
     "data": {
      "text/plain": [
       "2"
      ]
     },
     "execution_count": 269,
     "metadata": {},
     "output_type": "execute_result"
    }
   ],
   "source": [
    "# Obtaining rank of matrix (number of independent vectors) can be obtained using numpy.linalg.matrix_rank()\n",
    "# Here first two rows are dependent as second row can be obtained by multiplying each element of first row by 2. \n",
    "a = np.array([[12,13,14],[24,26,28],[1,2,3]])\n",
    "print a\n",
    "np.linalg.matrix_rank(a)"
   ]
  },
  {
   "cell_type": "code",
   "execution_count": 273,
   "metadata": {
    "collapsed": false
   },
   "outputs": [
    {
     "data": {
      "text/plain": [
       "41"
      ]
     },
     "execution_count": 273,
     "metadata": {},
     "output_type": "execute_result"
    }
   ],
   "source": [
    "# We can also obtain trace of matrix (Sum of elements across diagonal) using function numpy.trace()\n",
    "# There are parameters like offset, axis, dtype and out. \n",
    "np.trace(a)"
   ]
  },
  {
   "cell_type": "code",
   "execution_count": 274,
   "metadata": {
    "collapsed": false
   },
   "outputs": [
    {
     "data": {
      "text/plain": [
       "34656746943233008.0"
      ]
     },
     "execution_count": 274,
     "metadata": {},
     "output_type": "execute_result"
    }
   ],
   "source": [
    "# Condition number of matrix can be obtained using function numpy.linalg.cond(). \n",
    "# In numerical analysis, this number plays very important role in getting initial insights about matrix. \n",
    "# This number indicates the change in output values for small change in input values\n",
    "np.linalg.cond(a)"
   ]
  },
  {
   "cell_type": "code",
   "execution_count": 276,
   "metadata": {
    "collapsed": false
   },
   "outputs": [
    {
     "data": {
      "text/plain": [
       "(0.0, -inf)"
      ]
     },
     "execution_count": 276,
     "metadata": {},
     "output_type": "execute_result"
    }
   ],
   "source": [
    "# Determining sign and natural logarithm of determinant of matrix\n",
    "np.linalg.slogdet(a)"
   ]
  },
  {
   "cell_type": "code",
   "execution_count": 277,
   "metadata": {
    "collapsed": false
   },
   "outputs": [
    {
     "data": {
      "text/plain": [
       "50.586559479766954"
      ]
     },
     "execution_count": 277,
     "metadata": {},
     "output_type": "execute_result"
    }
   ],
   "source": [
    "# This function returns one of norms out of eight different matrix norms or one out of an infinite number of vector norms \n",
    "# depending on the arguments. \n",
    "np.linalg.norm(a)"
   ]
  },
  {
   "cell_type": "code",
   "execution_count": 288,
   "metadata": {
    "collapsed": false
   },
   "outputs": [
    {
     "name": "stdout",
     "output_type": "stream",
     "text": [
      "[[ 2  3]\n",
      " [10 11]]\n",
      "Eigen Values and Eigen Vectors\n",
      "(array([ -0.58872344,  13.58872344]), array([[-0.7570958 , -0.25061117],\n",
      "       [ 0.65330388, -0.96808783]]))\n",
      "Eigen Values\n",
      "[ -0.58872344  13.58872344]\n"
     ]
    }
   ],
   "source": [
    "# Eigen values and right eigen vectors of square array using functions numpy.linalg.eig().\n",
    "# To obtain only eigen values of a general matrix, we use function numpy.linalg.eigvals() \n",
    "a = np.array([[2,3],[10,11]])\n",
    "print a\n",
    "print 'Eigen Values and Eigen Vectors'\n",
    "print np.linalg.eig(a)\n",
    "print 'Eigen Values'\n",
    "print np.linalg.eigvals(a)"
   ]
  },
  {
   "cell_type": "code",
   "execution_count": 289,
   "metadata": {
    "collapsed": false
   },
   "outputs": [
    {
     "name": "stdout",
     "output_type": "stream",
     "text": [
      "[[1 4 5]\n",
      " [4 2 6]\n",
      " [5 6 3]]\n",
      "Eigen Values and Eigen Vectors\n",
      "Eigen Values\n"
     ]
    },
    {
     "data": {
      "text/plain": [
       "array([ -3.6686831 ,  -2.50728797,  12.17597107])"
      ]
     },
     "execution_count": 289,
     "metadata": {},
     "output_type": "execute_result"
    }
   ],
   "source": [
    "# To obtain eigen values and eigen vectors of symmetric or hermitian matrix, we use function numpy.linalg.eigh()\n",
    "# To obtain eigen values of a symmetric or hermitian matrix, we use function numpy.linalg.eigvalsh() \n",
    "a = np.array([[1,4,5],[4,2,6],[5,6,3]])\n",
    "print a\n",
    "print 'Eigen Values and Eigen Vectors'\n",
    "np.linalg.eigh(a)\n",
    "print 'Eigen Values'\n",
    "np.linalg.eigvalsh(a)"
   ]
  },
  {
   "cell_type": "code",
   "execution_count": 292,
   "metadata": {
    "collapsed": false
   },
   "outputs": [
    {
     "data": {
      "text/plain": [
       "array([[ -9., -10.],\n",
       "       [  7.,   8.]])"
      ]
     },
     "execution_count": 292,
     "metadata": {},
     "output_type": "execute_result"
    }
   ],
   "source": [
    "# Solving system of linear scalar equations using function numpy.linalg.solve()\n",
    "a = np.array([[2,3],[1,2]])\n",
    "b = np.array([[3,4],[5,6]])\n",
    "np.linalg.solve(a,b)"
   ]
  },
  {
   "cell_type": "code",
   "execution_count": 293,
   "metadata": {
    "collapsed": false
   },
   "outputs": [
    {
     "data": {
      "text/plain": [
       "array([[ 2., -3.],\n",
       "       [-1.,  2.]])"
      ]
     },
     "execution_count": 293,
     "metadata": {},
     "output_type": "execute_result"
    }
   ],
   "source": [
    "# Obtaining inverse of matrix using function numpy.linalg.inv() \n",
    "np.linalg.inv(a)"
   ]
  },
  {
   "cell_type": "code",
   "execution_count": 294,
   "metadata": {
    "collapsed": false
   },
   "outputs": [
    {
     "data": {
      "text/plain": [
       "array([ 1., -3.,  2.])"
      ]
     },
     "execution_count": 294,
     "metadata": {},
     "output_type": "execute_result"
    }
   ],
   "source": [
    "# NumPy also have some functions to deal with polynomials \n",
    "# If we give set of roots to function np.poly(), it returns possible coefficients\n",
    "np.poly([1,2])"
   ]
  },
  {
   "cell_type": "code",
   "execution_count": 295,
   "metadata": {
    "collapsed": false
   },
   "outputs": [
    {
     "data": {
      "text/plain": [
       "array([ 2.,  1.])"
      ]
     },
     "execution_count": 295,
     "metadata": {},
     "output_type": "execute_result"
    }
   ],
   "source": [
    "# We can perform opposite operation to obtain roots of polynomial by passing coefficients to function np.roots()\n",
    "np.roots([1,-3,2])"
   ]
  },
  {
   "cell_type": "code",
   "execution_count": 308,
   "metadata": {
    "collapsed": false
   },
   "outputs": [
    {
     "data": {
      "text/plain": [
       "array([ 0.25      ,  0.66666667,  2.        ,  3.        ,  0.        ])"
      ]
     },
     "execution_count": 308,
     "metadata": {},
     "output_type": "execute_result"
    }
   ],
   "source": [
    "# For polynomials, we can perform integration and differentiation using functions numpy.polyint() and numpy.polyder()\n",
    "# respectively.\n",
    "# Polynomial becomes x^3 + 2*x^2 + 4*x + 3 \n",
    "inte = np.polyint([1,2,4,3])\n",
    "inte"
   ]
  },
  {
   "cell_type": "code",
   "execution_count": 309,
   "metadata": {
    "collapsed": false
   },
   "outputs": [
    {
     "data": {
      "text/plain": [
       "array([ 1.,  2.,  4.,  3.])"
      ]
     },
     "execution_count": 309,
     "metadata": {},
     "output_type": "execute_result"
    }
   ],
   "source": [
    "# Using function numpy.polyder() for obtaining derivation of the same polynomial from its integration  \n",
    "der = np.polyder(inte)\n",
    "der"
   ]
  },
  {
   "cell_type": "code",
   "execution_count": 307,
   "metadata": {
    "collapsed": false
   },
   "outputs": [
    {
     "data": {
      "text/plain": [
       "7"
      ]
     },
     "execution_count": 307,
     "metadata": {},
     "output_type": "execute_result"
    }
   ],
   "source": [
    "# We can solve some polynomial for particular value by using function numpy.polyval()\n",
    "# Here it takes coefficients of the polynomial and the value for which to solve as an input. \n",
    "# Polynomial becomes x^2 + x + 1 and value of x = 2 results value 7 \n",
    "np.polyval([1,1,1],2)"
   ]
  },
  {
   "cell_type": "code",
   "execution_count": 310,
   "metadata": {
    "collapsed": false
   },
   "outputs": [
    {
     "data": {
      "text/plain": [
       "array([5, 7, 9])"
      ]
     },
     "execution_count": 310,
     "metadata": {},
     "output_type": "execute_result"
    }
   ],
   "source": [
    "# There are functions like numpy.polyadd(), numpy.polysub(), numpy.polymul() and numpy.polydiv() for addition, subtraction, \n",
    "# multiplication and division respectively. \n",
    "# Showing an example for addition here. Other functions can be explored in similar manner. \n",
    "a = np.array([1,2,3])\n",
    "b = np.array([4,5,6])\n",
    "np.polyadd(a,b)"
   ]
  },
  {
   "cell_type": "code",
   "execution_count": 311,
   "metadata": {
    "collapsed": true
   },
   "outputs": [],
   "source": [
    "# Dealing with generation of random numbers using numpy subpackage numpy.random\n",
    "# Using np.random.seed() to obtain same sequence of random numbers at different points in program\n",
    "# Using same seed value ensures to generating same sequence of random numbers which is useful in debugging purpose \n",
    "np.random.seed(5)"
   ]
  },
  {
   "cell_type": "code",
   "execution_count": 312,
   "metadata": {
    "collapsed": false
   },
   "outputs": [
    {
     "data": {
      "text/plain": [
       "array([ 0.22199317,  0.87073231,  0.20671916,  0.91861091,  0.48841119])"
      ]
     },
     "execution_count": 312,
     "metadata": {},
     "output_type": "execute_result"
    }
   ],
   "source": [
    "# We can generate array of random numbers in half-open interval [0.0, 1) using function np.random.rand()\n",
    "np.random.rand(5)"
   ]
  },
  {
   "cell_type": "code",
   "execution_count": 313,
   "metadata": {
    "collapsed": false
   },
   "outputs": [
    {
     "data": {
      "text/plain": [
       "0.6117438629026457"
      ]
     },
     "execution_count": 313,
     "metadata": {},
     "output_type": "execute_result"
    }
   ],
   "source": [
    "# To genrate a single random number, we use fumction np.random.random() in interval [0,1).\n",
    "np.random.random()"
   ]
  },
  {
   "cell_type": "code",
   "execution_count": 314,
   "metadata": {
    "collapsed": false
   },
   "outputs": [
    {
     "data": {
      "text/plain": [
       "array([[ 0.76590786,  0.51841799,  0.2968005 ,  0.18772123,  0.08074127],\n",
       "       [ 0.7384403 ,  0.44130922,  0.15830987,  0.87993703,  0.27408646],\n",
       "       [ 0.41423502,  0.29607993,  0.62878791,  0.57983781,  0.5999292 ],\n",
       "       [ 0.26581912,  0.28468588,  0.25358821,  0.32756395,  0.1441643 ]])"
      ]
     },
     "execution_count": 314,
     "metadata": {},
     "output_type": "execute_result"
    }
   ],
   "source": [
    "# 2D arrays can be generated by mentioning dimensions as input.\n",
    "# Can also use reshape() function to set the dimensions appropriately. \n",
    "np.random.rand(4,5)"
   ]
  },
  {
   "cell_type": "code",
   "execution_count": null,
   "metadata": {
    "collapsed": true
   },
   "outputs": [],
   "source": []
  }
 ],
 "metadata": {
  "kernelspec": {
   "display_name": "Python 2",
   "language": "python",
   "name": "python2"
  },
  "language_info": {
   "codemirror_mode": {
    "name": "ipython",
    "version": 2
   },
   "file_extension": ".py",
   "mimetype": "text/x-python",
   "name": "python",
   "nbconvert_exporter": "python",
   "pygments_lexer": "ipython2",
   "version": "2.7.6"
  }
 },
 "nbformat": 4,
 "nbformat_minor": 0
}
